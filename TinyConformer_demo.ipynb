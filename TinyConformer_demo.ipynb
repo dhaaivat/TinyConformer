{
  "nbformat": 4,
  "nbformat_minor": 0,
  "metadata": {
    "colab": {
      "provenance": [],
      "gpuType": "T4"
    },
    "kernelspec": {
      "name": "python3",
      "display_name": "Python 3"
    },
    "language_info": {
      "name": "python"
    },
    "accelerator": "GPU"
  },
  "cells": [
    {
      "cell_type": "code",
      "execution_count": 1,
      "metadata": {
        "colab": {
          "base_uri": "https://localhost:8080/"
        },
        "id": "8Lta9tGWYO1d",
        "outputId": "244b2695-2526-44ad-e6a4-93eda188d49e"
      },
      "outputs": [
        {
          "output_type": "stream",
          "name": "stdout",
          "text": [
            "Mounted at /content/drive\n"
          ]
        }
      ],
      "source": [
        "from google.colab import drive\n",
        "drive.mount('/content/drive')"
      ]
    },
    {
      "cell_type": "code",
      "source": [
        "!unzip -qq /content/drive/MyDrive/mini_speech_commands.zip -d /content/\n"
      ],
      "metadata": {
        "id": "W5xfB6kdfkqm",
        "collapsed": true
      },
      "execution_count": 2,
      "outputs": []
    },
    {
      "cell_type": "code",
      "source": [
        "!pip install torchaudio -qq"
      ],
      "metadata": {
        "id": "sEWS5TrnhexH",
        "colab": {
          "base_uri": "https://localhost:8080/"
        },
        "outputId": "b27991cf-0e23-4824-9bce-e5658cb949d1"
      },
      "execution_count": 3,
      "outputs": [
        {
          "output_type": "stream",
          "name": "stdout",
          "text": [
            "\u001b[2K   \u001b[90m━━━━━━━━━━━━━━━━━━━━━━━━━━━━━━━━━━━━━━━━\u001b[0m \u001b[32m363.4/363.4 MB\u001b[0m \u001b[31m4.7 MB/s\u001b[0m eta \u001b[36m0:00:00\u001b[0m\n",
            "\u001b[2K   \u001b[90m━━━━━━━━━━━━━━━━━━━━━━━━━━━━━━━━━━━━━━━━\u001b[0m \u001b[32m13.8/13.8 MB\u001b[0m \u001b[31m49.0 MB/s\u001b[0m eta \u001b[36m0:00:00\u001b[0m\n",
            "\u001b[2K   \u001b[90m━━━━━━━━━━━━━━━━━━━━━━━━━━━━━━━━━━━━━━━━\u001b[0m \u001b[32m24.6/24.6 MB\u001b[0m \u001b[31m37.0 MB/s\u001b[0m eta \u001b[36m0:00:00\u001b[0m\n",
            "\u001b[2K   \u001b[90m━━━━━━━━━━━━━━━━━━━━━━━━━━━━━━━━━━━━━━━━\u001b[0m \u001b[32m883.7/883.7 kB\u001b[0m \u001b[31m49.4 MB/s\u001b[0m eta \u001b[36m0:00:00\u001b[0m\n",
            "\u001b[2K   \u001b[90m━━━━━━━━━━━━━━━━━━━━━━━━━━━━━━━━━━━━━━━━\u001b[0m \u001b[32m664.8/664.8 MB\u001b[0m \u001b[31m2.9 MB/s\u001b[0m eta \u001b[36m0:00:00\u001b[0m\n",
            "\u001b[2K   \u001b[90m━━━━━━━━━━━━━━━━━━━━━━━━━━━━━━━━━━━━━━━━\u001b[0m \u001b[32m211.5/211.5 MB\u001b[0m \u001b[31m5.8 MB/s\u001b[0m eta \u001b[36m0:00:00\u001b[0m\n",
            "\u001b[2K   \u001b[90m━━━━━━━━━━━━━━━━━━━━━━━━━━━━━━━━━━━━━━━━\u001b[0m \u001b[32m56.3/56.3 MB\u001b[0m \u001b[31m13.1 MB/s\u001b[0m eta \u001b[36m0:00:00\u001b[0m\n",
            "\u001b[2K   \u001b[90m━━━━━━━━━━━━━━━━━━━━━━━━━━━━━━━━━━━━━━━━\u001b[0m \u001b[32m127.9/127.9 MB\u001b[0m \u001b[31m7.4 MB/s\u001b[0m eta \u001b[36m0:00:00\u001b[0m\n",
            "\u001b[2K   \u001b[90m━━━━━━━━━━━━━━━━━━━━━━━━━━━━━━━━━━━━━━━━\u001b[0m \u001b[32m207.5/207.5 MB\u001b[0m \u001b[31m5.8 MB/s\u001b[0m eta \u001b[36m0:00:00\u001b[0m\n",
            "\u001b[2K   \u001b[90m━━━━━━━━━━━━━━━━━━━━━━━━━━━━━━━━━━━━━━━━\u001b[0m \u001b[32m188.7/188.7 MB\u001b[0m \u001b[31m7.1 MB/s\u001b[0m eta \u001b[36m0:00:00\u001b[0m\n",
            "\u001b[2K   \u001b[90m━━━━━━━━━━━━━━━━━━━━━━━━━━━━━━━━━━━━━━━━\u001b[0m \u001b[32m21.1/21.1 MB\u001b[0m \u001b[31m108.3 MB/s\u001b[0m eta \u001b[36m0:00:00\u001b[0m\n",
            "\u001b[?25h"
          ]
        }
      ]
    },
    {
      "cell_type": "code",
      "source": [
        "!git clone https://github.com/dhaaivat/TinyConformer.git\n",
        "%cd TinyConformer"
      ],
      "metadata": {
        "colab": {
          "base_uri": "https://localhost:8080/"
        },
        "id": "COEr4P2ekp88",
        "outputId": "6bb113d9-40d3-4322-d1c0-8baead1f568b"
      },
      "execution_count": 4,
      "outputs": [
        {
          "output_type": "stream",
          "name": "stdout",
          "text": [
            "Cloning into 'TinyConformer'...\n",
            "remote: Enumerating objects: 33, done.\u001b[K\n",
            "remote: Counting objects: 100% (33/33), done.\u001b[K\n",
            "remote: Compressing objects: 100% (32/32), done.\u001b[K\n",
            "remote: Total 33 (delta 15), reused 0 (delta 0), pack-reused 0 (from 0)\u001b[K\n",
            "Receiving objects: 100% (33/33), 13.41 KiB | 4.47 MiB/s, done.\n",
            "Resolving deltas: 100% (15/15), done.\n",
            "/content/TinyConformer\n"
          ]
        }
      ]
    },
    {
      "cell_type": "code",
      "source": [
        "from dataset import get_dataloaders\n",
        "from model import TinyConformer\n",
        "from train import train_model\n",
        "import torch\n",
        "import torch.nn as nn\n",
        "from torch.optim import Adam\n",
        "\n",
        "# Check device\n",
        "device = \"cuda\" if torch.cuda.is_available() else \"cpu\"\n",
        "print(\"Using device:\", device)\n",
        "\n",
        "# Step 1: Get dataloaders\n",
        "train_loader, val_loader = get_dataloaders()\n",
        "\n",
        "# Step 2: Initialize model, criterion, optimizer\n",
        "model = TinyConformer(\n",
        "    input_dim=64,        # Since your mel-spectrograms have 64 bins\n",
        "    d_model=144,         # As defined by default in ConvSubsampling and TinyConformer\n",
        "    num_classes=8,       # Your number of output classes\n",
        "    num_blocks=4,        # Number of Conformer blocks\n",
        "    dropout=0.1          # Dropout rate\n",
        ")\n",
        "\n",
        "model.to(device)\n",
        "criterion = nn.CrossEntropyLoss()\n",
        "optimizer = Adam(model.parameters(), lr=1e-4)\n",
        "\n",
        "# Step 3: Train model\n",
        "train_model(\n",
        "    model=model,\n",
        "    train_loader=train_loader,\n",
        "    val_loader=val_loader,\n",
        "    criterion=criterion,\n",
        "    optimizer=optimizer,\n",
        "    device=device,\n",
        "    num_epochs=50,\n",
        "    patience=7,\n",
        "    delta=0.1\n",
        ")"
      ],
      "metadata": {
        "colab": {
          "base_uri": "https://localhost:8080/"
        },
        "id": "1sxMF1SNlx5R",
        "outputId": "ea7355d1-76a5-4244-c22c-ff478d1b427c"
      },
      "execution_count": 5,
      "outputs": [
        {
          "output_type": "stream",
          "name": "stdout",
          "text": [
            "Using device: cuda\n",
            "\n",
            "[INFO] Epoch 1/50\n"
          ]
        },
        {
          "output_type": "stream",
          "name": "stderr",
          "text": [
            "Training: 100%|██████████| 200/200 [00:40<00:00,  4.92it/s, acc=20, loss=1.74]\n"
          ]
        },
        {
          "output_type": "stream",
          "name": "stdout",
          "text": [
            " Validation Accuracy: 10.75%\n",
            "[INFO] New best model saved with val acc: 10.75%\n",
            "\n",
            "[INFO] Epoch 2/50\n"
          ]
        },
        {
          "output_type": "stream",
          "name": "stderr",
          "text": [
            "Training: 100%|██████████| 200/200 [00:35<00:00,  5.63it/s, acc=31.5, loss=1.51]\n"
          ]
        },
        {
          "output_type": "stream",
          "name": "stdout",
          "text": [
            " Validation Accuracy: 7.12%\n",
            "[INFO] No improvement. Patience left: 6\n",
            "\n",
            "[INFO] Epoch 3/50\n"
          ]
        },
        {
          "output_type": "stream",
          "name": "stderr",
          "text": [
            "Training: 100%|██████████| 200/200 [00:34<00:00,  5.83it/s, acc=39.1, loss=1.62]\n"
          ]
        },
        {
          "output_type": "stream",
          "name": "stdout",
          "text": [
            " Validation Accuracy: 3.25%\n",
            "[INFO] No improvement. Patience left: 5\n",
            "\n",
            "[INFO] Epoch 4/50\n"
          ]
        },
        {
          "output_type": "stream",
          "name": "stderr",
          "text": [
            "Training: 100%|██████████| 200/200 [00:34<00:00,  5.79it/s, acc=43.2, loss=1.2]\n"
          ]
        },
        {
          "output_type": "stream",
          "name": "stdout",
          "text": [
            " Validation Accuracy: 18.88%\n",
            "[INFO] New best model saved with val acc: 18.88%\n",
            "\n",
            "[INFO] Epoch 5/50\n"
          ]
        },
        {
          "output_type": "stream",
          "name": "stderr",
          "text": [
            "Training: 100%|██████████| 200/200 [00:34<00:00,  5.77it/s, acc=45.2, loss=1.35]\n"
          ]
        },
        {
          "output_type": "stream",
          "name": "stdout",
          "text": [
            " Validation Accuracy: 6.50%\n",
            "[INFO] No improvement. Patience left: 6\n",
            "\n",
            "[INFO] Epoch 6/50\n"
          ]
        },
        {
          "output_type": "stream",
          "name": "stderr",
          "text": [
            "Training: 100%|██████████| 200/200 [00:34<00:00,  5.85it/s, acc=48.2, loss=1.09]\n"
          ]
        },
        {
          "output_type": "stream",
          "name": "stdout",
          "text": [
            " Validation Accuracy: 8.88%\n",
            "[INFO] No improvement. Patience left: 5\n",
            "\n",
            "[INFO] Epoch 7/50\n"
          ]
        },
        {
          "output_type": "stream",
          "name": "stderr",
          "text": [
            "Training: 100%|██████████| 200/200 [00:34<00:00,  5.78it/s, acc=50.3, loss=1.14]\n"
          ]
        },
        {
          "output_type": "stream",
          "name": "stdout",
          "text": [
            " Validation Accuracy: 17.88%\n",
            "[INFO] No improvement. Patience left: 4\n",
            "\n",
            "[INFO] Epoch 8/50\n"
          ]
        },
        {
          "output_type": "stream",
          "name": "stderr",
          "text": [
            "Training: 100%|██████████| 200/200 [00:33<00:00,  5.93it/s, acc=53.3, loss=0.911]\n"
          ]
        },
        {
          "output_type": "stream",
          "name": "stdout",
          "text": [
            " Validation Accuracy: 20.25%\n",
            "[INFO] New best model saved with val acc: 20.25%\n",
            "\n",
            "[INFO] Epoch 9/50\n"
          ]
        },
        {
          "output_type": "stream",
          "name": "stderr",
          "text": [
            "Training: 100%|██████████| 200/200 [00:33<00:00,  5.95it/s, acc=53.3, loss=1.03]\n"
          ]
        },
        {
          "output_type": "stream",
          "name": "stdout",
          "text": [
            " Validation Accuracy: 27.12%\n",
            "[INFO] New best model saved with val acc: 27.12%\n",
            "\n",
            "[INFO] Epoch 10/50\n"
          ]
        },
        {
          "output_type": "stream",
          "name": "stderr",
          "text": [
            "Training: 100%|██████████| 200/200 [00:34<00:00,  5.85it/s, acc=55.8, loss=0.867]\n"
          ]
        },
        {
          "output_type": "stream",
          "name": "stdout",
          "text": [
            " Validation Accuracy: 27.88%\n",
            "[INFO] New best model saved with val acc: 27.88%\n",
            "\n",
            "[INFO] Epoch 11/50\n"
          ]
        },
        {
          "output_type": "stream",
          "name": "stderr",
          "text": [
            "Training: 100%|██████████| 200/200 [00:34<00:00,  5.77it/s, acc=56.2, loss=0.925]\n"
          ]
        },
        {
          "output_type": "stream",
          "name": "stdout",
          "text": [
            " Validation Accuracy: 38.12%\n",
            "[INFO] New best model saved with val acc: 38.12%\n",
            "\n",
            "[INFO] Epoch 12/50\n"
          ]
        },
        {
          "output_type": "stream",
          "name": "stderr",
          "text": [
            "Training: 100%|██████████| 200/200 [00:34<00:00,  5.74it/s, acc=58.9, loss=0.835]\n"
          ]
        },
        {
          "output_type": "stream",
          "name": "stdout",
          "text": [
            " Validation Accuracy: 16.25%\n",
            "[INFO] No improvement. Patience left: 6\n",
            "\n",
            "[INFO] Epoch 13/50\n"
          ]
        },
        {
          "output_type": "stream",
          "name": "stderr",
          "text": [
            "Training: 100%|██████████| 200/200 [00:35<00:00,  5.68it/s, acc=59.9, loss=1.19]\n"
          ]
        },
        {
          "output_type": "stream",
          "name": "stdout",
          "text": [
            " Validation Accuracy: 45.75%\n",
            "[INFO] New best model saved with val acc: 45.75%\n",
            "\n",
            "[INFO] Epoch 14/50\n"
          ]
        },
        {
          "output_type": "stream",
          "name": "stderr",
          "text": [
            "Training: 100%|██████████| 200/200 [00:33<00:00,  5.96it/s, acc=59.7, loss=0.995]\n"
          ]
        },
        {
          "output_type": "stream",
          "name": "stdout",
          "text": [
            " Validation Accuracy: 39.50%\n",
            "[INFO] No improvement. Patience left: 6\n",
            "\n",
            "[INFO] Epoch 15/50\n"
          ]
        },
        {
          "output_type": "stream",
          "name": "stderr",
          "text": [
            "Training: 100%|██████████| 200/200 [00:33<00:00,  6.04it/s, acc=62.4, loss=1.12]\n"
          ]
        },
        {
          "output_type": "stream",
          "name": "stdout",
          "text": [
            " Validation Accuracy: 25.25%\n",
            "[INFO] No improvement. Patience left: 5\n",
            "\n",
            "[INFO] Epoch 16/50\n"
          ]
        },
        {
          "output_type": "stream",
          "name": "stderr",
          "text": [
            "Training: 100%|██████████| 200/200 [00:33<00:00,  6.05it/s, acc=62.3, loss=0.879]\n"
          ]
        },
        {
          "output_type": "stream",
          "name": "stdout",
          "text": [
            " Validation Accuracy: 36.00%\n",
            "[INFO] No improvement. Patience left: 4\n",
            "\n",
            "[INFO] Epoch 17/50\n"
          ]
        },
        {
          "output_type": "stream",
          "name": "stderr",
          "text": [
            "Training: 100%|██████████| 200/200 [00:34<00:00,  5.88it/s, acc=64.9, loss=0.632]\n"
          ]
        },
        {
          "output_type": "stream",
          "name": "stdout",
          "text": [
            " Validation Accuracy: 44.88%\n",
            "[INFO] No improvement. Patience left: 3\n",
            "\n",
            "[INFO] Epoch 18/50\n"
          ]
        },
        {
          "output_type": "stream",
          "name": "stderr",
          "text": [
            "Training: 100%|██████████| 200/200 [00:34<00:00,  5.87it/s, acc=65.5, loss=0.876]\n"
          ]
        },
        {
          "output_type": "stream",
          "name": "stdout",
          "text": [
            " Validation Accuracy: 46.75%\n",
            "[INFO] New best model saved with val acc: 46.75%\n",
            "\n",
            "[INFO] Epoch 19/50\n"
          ]
        },
        {
          "output_type": "stream",
          "name": "stderr",
          "text": [
            "Training: 100%|██████████| 200/200 [00:35<00:00,  5.65it/s, acc=66.9, loss=0.59]\n"
          ]
        },
        {
          "output_type": "stream",
          "name": "stdout",
          "text": [
            " Validation Accuracy: 42.12%\n",
            "[INFO] No improvement. Patience left: 6\n",
            "\n",
            "[INFO] Epoch 20/50\n"
          ]
        },
        {
          "output_type": "stream",
          "name": "stderr",
          "text": [
            "Training: 100%|██████████| 200/200 [00:33<00:00,  5.92it/s, acc=67.3, loss=0.524]\n"
          ]
        },
        {
          "output_type": "stream",
          "name": "stdout",
          "text": [
            " Validation Accuracy: 52.75%\n",
            "[INFO] New best model saved with val acc: 52.75%\n",
            "\n",
            "[INFO] Epoch 21/50\n"
          ]
        },
        {
          "output_type": "stream",
          "name": "stderr",
          "text": [
            "Training: 100%|██████████| 200/200 [00:33<00:00,  6.02it/s, acc=68, loss=0.761]\n"
          ]
        },
        {
          "output_type": "stream",
          "name": "stdout",
          "text": [
            " Validation Accuracy: 48.12%\n",
            "[INFO] No improvement. Patience left: 6\n",
            "\n",
            "[INFO] Epoch 22/50\n"
          ]
        },
        {
          "output_type": "stream",
          "name": "stderr",
          "text": [
            "Training: 100%|██████████| 200/200 [00:33<00:00,  5.98it/s, acc=70.3, loss=0.807]\n"
          ]
        },
        {
          "output_type": "stream",
          "name": "stdout",
          "text": [
            " Validation Accuracy: 46.38%\n",
            "[INFO] No improvement. Patience left: 5\n",
            "\n",
            "[INFO] Epoch 23/50\n"
          ]
        },
        {
          "output_type": "stream",
          "name": "stderr",
          "text": [
            "Training: 100%|██████████| 200/200 [00:33<00:00,  5.88it/s, acc=68.9, loss=0.804]\n"
          ]
        },
        {
          "output_type": "stream",
          "name": "stdout",
          "text": [
            " Validation Accuracy: 48.38%\n",
            "[INFO] No improvement. Patience left: 4\n",
            "\n",
            "[INFO] Epoch 24/50\n"
          ]
        },
        {
          "output_type": "stream",
          "name": "stderr",
          "text": [
            "Training: 100%|██████████| 200/200 [00:34<00:00,  5.80it/s, acc=69.8, loss=0.547]\n"
          ]
        },
        {
          "output_type": "stream",
          "name": "stdout",
          "text": [
            " Validation Accuracy: 45.88%\n",
            "[INFO] No improvement. Patience left: 3\n",
            "\n",
            "[INFO] Epoch 25/50\n"
          ]
        },
        {
          "output_type": "stream",
          "name": "stderr",
          "text": [
            "Training: 100%|██████████| 200/200 [00:35<00:00,  5.70it/s, acc=71, loss=1.76]\n"
          ]
        },
        {
          "output_type": "stream",
          "name": "stdout",
          "text": [
            " Validation Accuracy: 52.00%\n",
            "[INFO] No improvement. Patience left: 2\n",
            "\n",
            "[INFO] Epoch 26/50\n"
          ]
        },
        {
          "output_type": "stream",
          "name": "stderr",
          "text": [
            "Training: 100%|██████████| 200/200 [00:34<00:00,  5.86it/s, acc=72.4, loss=0.912]\n"
          ]
        },
        {
          "output_type": "stream",
          "name": "stdout",
          "text": [
            " Validation Accuracy: 54.12%\n",
            "[INFO] New best model saved with val acc: 54.12%\n",
            "\n",
            "[INFO] Epoch 27/50\n"
          ]
        },
        {
          "output_type": "stream",
          "name": "stderr",
          "text": [
            "Training: 100%|██████████| 200/200 [00:33<00:00,  5.96it/s, acc=72.8, loss=0.908]\n"
          ]
        },
        {
          "output_type": "stream",
          "name": "stdout",
          "text": [
            " Validation Accuracy: 57.75%\n",
            "[INFO] New best model saved with val acc: 57.75%\n",
            "\n",
            "[INFO] Epoch 28/50\n"
          ]
        },
        {
          "output_type": "stream",
          "name": "stderr",
          "text": [
            "Training: 100%|██████████| 200/200 [00:33<00:00,  6.04it/s, acc=71.8, loss=0.499]\n"
          ]
        },
        {
          "output_type": "stream",
          "name": "stdout",
          "text": [
            " Validation Accuracy: 52.62%\n",
            "[INFO] No improvement. Patience left: 6\n",
            "\n",
            "[INFO] Epoch 29/50\n"
          ]
        },
        {
          "output_type": "stream",
          "name": "stderr",
          "text": [
            "Training: 100%|██████████| 200/200 [00:33<00:00,  6.04it/s, acc=73.4, loss=0.868]\n"
          ]
        },
        {
          "output_type": "stream",
          "name": "stdout",
          "text": [
            " Validation Accuracy: 48.25%\n",
            "[INFO] No improvement. Patience left: 5\n",
            "\n",
            "[INFO] Epoch 30/50\n"
          ]
        },
        {
          "output_type": "stream",
          "name": "stderr",
          "text": [
            "Training: 100%|██████████| 200/200 [00:34<00:00,  5.84it/s, acc=73.7, loss=0.808]\n"
          ]
        },
        {
          "output_type": "stream",
          "name": "stdout",
          "text": [
            " Validation Accuracy: 61.75%\n",
            "[INFO] New best model saved with val acc: 61.75%\n",
            "\n",
            "[INFO] Epoch 31/50\n"
          ]
        },
        {
          "output_type": "stream",
          "name": "stderr",
          "text": [
            "Training: 100%|██████████| 200/200 [00:34<00:00,  5.87it/s, acc=74.2, loss=0.326]\n"
          ]
        },
        {
          "output_type": "stream",
          "name": "stdout",
          "text": [
            " Validation Accuracy: 57.12%\n",
            "[INFO] No improvement. Patience left: 6\n",
            "\n",
            "[INFO] Epoch 32/50\n"
          ]
        },
        {
          "output_type": "stream",
          "name": "stderr",
          "text": [
            "Training: 100%|██████████| 200/200 [00:34<00:00,  5.87it/s, acc=75.9, loss=0.796]\n"
          ]
        },
        {
          "output_type": "stream",
          "name": "stdout",
          "text": [
            " Validation Accuracy: 58.50%\n",
            "[INFO] No improvement. Patience left: 5\n",
            "\n",
            "[INFO] Epoch 33/50\n"
          ]
        },
        {
          "output_type": "stream",
          "name": "stderr",
          "text": [
            "Training: 100%|██████████| 200/200 [00:34<00:00,  5.86it/s, acc=76.2, loss=0.981]\n"
          ]
        },
        {
          "output_type": "stream",
          "name": "stdout",
          "text": [
            " Validation Accuracy: 57.88%\n",
            "[INFO] No improvement. Patience left: 4\n",
            "\n",
            "[INFO] Epoch 34/50\n"
          ]
        },
        {
          "output_type": "stream",
          "name": "stderr",
          "text": [
            "Training: 100%|██████████| 200/200 [00:33<00:00,  5.98it/s, acc=74.4, loss=0.358]\n"
          ]
        },
        {
          "output_type": "stream",
          "name": "stdout",
          "text": [
            " Validation Accuracy: 54.38%\n",
            "[INFO] No improvement. Patience left: 3\n",
            "\n",
            "[INFO] Epoch 35/50\n"
          ]
        },
        {
          "output_type": "stream",
          "name": "stderr",
          "text": [
            "Training: 100%|██████████| 200/200 [00:33<00:00,  5.99it/s, acc=75.9, loss=0.498]\n"
          ]
        },
        {
          "output_type": "stream",
          "name": "stdout",
          "text": [
            " Validation Accuracy: 62.25%\n",
            "[INFO] New best model saved with val acc: 62.25%\n",
            "\n",
            "[INFO] Epoch 36/50\n"
          ]
        },
        {
          "output_type": "stream",
          "name": "stderr",
          "text": [
            "Training: 100%|██████████| 200/200 [00:34<00:00,  5.82it/s, acc=77, loss=0.758]\n"
          ]
        },
        {
          "output_type": "stream",
          "name": "stdout",
          "text": [
            " Validation Accuracy: 61.62%\n",
            "[INFO] No improvement. Patience left: 6\n",
            "\n",
            "[INFO] Epoch 37/50\n"
          ]
        },
        {
          "output_type": "stream",
          "name": "stderr",
          "text": [
            "Training: 100%|██████████| 200/200 [00:33<00:00,  5.95it/s, acc=76.4, loss=0.78]\n"
          ]
        },
        {
          "output_type": "stream",
          "name": "stdout",
          "text": [
            " Validation Accuracy: 61.50%\n",
            "[INFO] No improvement. Patience left: 5\n",
            "\n",
            "[INFO] Epoch 38/50\n"
          ]
        },
        {
          "output_type": "stream",
          "name": "stderr",
          "text": [
            "Training: 100%|██████████| 200/200 [00:34<00:00,  5.83it/s, acc=77.8, loss=0.709]\n"
          ]
        },
        {
          "output_type": "stream",
          "name": "stdout",
          "text": [
            " Validation Accuracy: 58.50%\n",
            "[INFO] No improvement. Patience left: 4\n",
            "\n",
            "[INFO] Epoch 39/50\n"
          ]
        },
        {
          "output_type": "stream",
          "name": "stderr",
          "text": [
            "Training: 100%|██████████| 200/200 [00:34<00:00,  5.83it/s, acc=76.2, loss=0.254]\n"
          ]
        },
        {
          "output_type": "stream",
          "name": "stdout",
          "text": [
            " Validation Accuracy: 59.88%\n",
            "[INFO] No improvement. Patience left: 3\n",
            "\n",
            "[INFO] Epoch 40/50\n"
          ]
        },
        {
          "output_type": "stream",
          "name": "stderr",
          "text": [
            "Training: 100%|██████████| 200/200 [00:34<00:00,  5.86it/s, acc=78.2, loss=0.45]\n"
          ]
        },
        {
          "output_type": "stream",
          "name": "stdout",
          "text": [
            " Validation Accuracy: 54.75%\n",
            "[INFO] No improvement. Patience left: 2\n",
            "\n",
            "[INFO] Epoch 41/50\n"
          ]
        },
        {
          "output_type": "stream",
          "name": "stderr",
          "text": [
            "Training: 100%|██████████| 200/200 [00:33<00:00,  6.00it/s, acc=77.1, loss=0.238]\n"
          ]
        },
        {
          "output_type": "stream",
          "name": "stdout",
          "text": [
            " Validation Accuracy: 60.12%\n",
            "[INFO] No improvement. Patience left: 1\n",
            "\n",
            "[INFO] Epoch 42/50\n"
          ]
        },
        {
          "output_type": "stream",
          "name": "stderr",
          "text": [
            "Training: 100%|██████████| 200/200 [00:33<00:00,  5.94it/s, acc=78.1, loss=0.443]\n"
          ]
        },
        {
          "output_type": "stream",
          "name": "stdout",
          "text": [
            " Validation Accuracy: 57.62%\n",
            "[INFO] No improvement. Patience left: 0\n",
            "[Early Stopping] No improvement for 7 epochs.\n",
            "\n",
            " Training complete. Best Validation Accuracy: 62.25%\n"
          ]
        },
        {
          "output_type": "execute_result",
          "data": {
            "text/plain": [
              "62.25"
            ]
          },
          "metadata": {},
          "execution_count": 5
        }
      ]
    },
    {
      "cell_type": "code",
      "source": [],
      "metadata": {
        "id": "Nyzm6vj0SnEp"
      },
      "execution_count": 5,
      "outputs": []
    }
  ]
}